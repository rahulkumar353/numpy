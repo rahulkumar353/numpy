{
  "nbformat": 4,
  "nbformat_minor": 0,
  "metadata": {
    "colab": {
      "name": "Rahul kumar - numpy-assignment-6.ipynb",
      "provenance": [],
      "collapsed_sections": []
    },
    "kernelspec": {
      "name": "python3",
      "display_name": "Python 3"
    }
  },
  "cells": [
    {
      "cell_type": "code",
      "metadata": {
        "id": "6PAefYSKHONH",
        "colab_type": "code",
        "colab": {}
      },
      "source": [
        "# You have write a function which takes 2 numpy array as input and returns \"Hoga\" or \"Nahi Hoga\" \n",
        "# depending on if broadcasting is possible on those two arrays"
      ],
      "execution_count": 0,
      "outputs": []
    },
    {
      "cell_type": "code",
      "metadata": {
        "id": "LtPSvg-4HjEv",
        "colab_type": "code",
        "colab": {}
      },
      "source": [
        "# Write your logic here\n",
        "import numpy as np\n",
        "def hoga_ki_nahi(arr1,arr2):\n",
        "    shp1=arr1.shape\n",
        "    shp2=arr2.shape\n",
        "    for a,b in zip(shp1[::-1],shp2[::-1]):\n",
        "        \n",
        "        if a==1 or b==1 or a==b:\n",
        "            pass\n",
        "        else:\n",
        "            return(\"nahi hoga\")\n",
        "    return (\"hoga\")"
      ],
      "execution_count": 0,
      "outputs": []
    },
    {
      "cell_type": "code",
      "metadata": {
        "id": "BGp93pIEHsOG",
        "colab_type": "code",
        "colab": {}
      },
      "source": [
        "a=np.arange(0,40).reshape(1,40)\n",
        "b=np.arange(40,80).reshape(40,1)\n"
      ],
      "execution_count": 0,
      "outputs": []
    },
    {
      "cell_type": "code",
      "metadata": {
        "id": "jz_2U5LRH2xy",
        "colab_type": "code",
        "outputId": "eb54bac0-cc86-4b11-d8f3-975cd7184ac7",
        "colab": {
          "base_uri": "https://localhost:8080/",
          "height": 34
        }
      },
      "source": [
        "hoga_ki_nahi(a,b)\n"
      ],
      "execution_count": 0,
      "outputs": [
        {
          "output_type": "execute_result",
          "data": {
            "text/plain": [
              "'hoga'"
            ]
          },
          "metadata": {
            "tags": []
          },
          "execution_count": 72
        }
      ]
    },
    {
      "cell_type": "code",
      "metadata": {
        "id": "qyjWW6WnMtLh",
        "colab_type": "code",
        "outputId": "40d0e987-c045-4b8a-9b8e-05f0b3b9bcaf",
        "colab": {
          "base_uri": "https://localhost:8080/",
          "height": 134
        }
      },
      "source": [
        "a+b"
      ],
      "execution_count": 0,
      "outputs": [
        {
          "output_type": "execute_result",
          "data": {
            "text/plain": [
              "array([[ 40,  41,  42, ...,  77,  78,  79],\n",
              "       [ 41,  42,  43, ...,  78,  79,  80],\n",
              "       [ 42,  43,  44, ...,  79,  80,  81],\n",
              "       ...,\n",
              "       [ 77,  78,  79, ..., 114, 115, 116],\n",
              "       [ 78,  79,  80, ..., 115, 116, 117],\n",
              "       [ 79,  80,  81, ..., 116, 117, 118]])"
            ]
          },
          "metadata": {
            "tags": []
          },
          "execution_count": 73
        }
      ]
    },
    {
      "cell_type": "code",
      "metadata": {
        "id": "rRlyqpU-Pja1",
        "colab_type": "code",
        "colab": {}
      },
      "source": [
        "a=np.arange(0,40).reshape(10,4)\n",
        "b=np.arange(40,80).reshape(4,10)\n"
      ],
      "execution_count": 0,
      "outputs": []
    },
    {
      "cell_type": "code",
      "metadata": {
        "id": "l5Iue56MQXLi",
        "colab_type": "code",
        "outputId": "8837e954-0045-4a80-e86c-2669e5da4ea2",
        "colab": {
          "base_uri": "https://localhost:8080/",
          "height": 34
        }
      },
      "source": [
        "hoga_ki_nahi(a,b)"
      ],
      "execution_count": 0,
      "outputs": [
        {
          "output_type": "execute_result",
          "data": {
            "text/plain": [
              "'nahi hoga'"
            ]
          },
          "metadata": {
            "tags": []
          },
          "execution_count": 75
        }
      ]
    },
    {
      "cell_type": "code",
      "metadata": {
        "id": "93WMSDrLQbi0",
        "colab_type": "code",
        "outputId": "e3e0e65c-90a1-4e81-994e-a0732b462246",
        "colab": {
          "base_uri": "https://localhost:8080/",
          "height": 162
        }
      },
      "source": [
        "a+b"
      ],
      "execution_count": 0,
      "outputs": [
        {
          "output_type": "error",
          "ename": "ValueError",
          "evalue": "ignored",
          "traceback": [
            "\u001b[0;31m---------------------------------------------------------------------------\u001b[0m",
            "\u001b[0;31mValueError\u001b[0m                                Traceback (most recent call last)",
            "\u001b[0;32m<ipython-input-76-ca730b97bf8a>\u001b[0m in \u001b[0;36m<module>\u001b[0;34m()\u001b[0m\n\u001b[0;32m----> 1\u001b[0;31m \u001b[0ma\u001b[0m\u001b[0;34m+\u001b[0m\u001b[0mb\u001b[0m\u001b[0;34m\u001b[0m\u001b[0;34m\u001b[0m\u001b[0m\n\u001b[0m",
            "\u001b[0;31mValueError\u001b[0m: operands could not be broadcast together with shapes (10,4) (4,10) "
          ]
        }
      ]
    },
    {
      "cell_type": "code",
      "metadata": {
        "id": "D5ZyY3z1iP2R",
        "colab_type": "code",
        "colab": {}
      },
      "source": [
        ""
      ],
      "execution_count": 0,
      "outputs": []
    }
  ]
}